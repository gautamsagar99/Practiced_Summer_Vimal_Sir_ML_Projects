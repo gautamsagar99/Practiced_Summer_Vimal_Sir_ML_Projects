{
 "cells": [
  {
   "cell_type": "code",
   "execution_count": 1,
   "id": "04ca3d6d",
   "metadata": {},
   "outputs": [],
   "source": [
    "import pandas as pd\n",
    "from sklearn.linear_model import LinearRegression\n",
    "import matplotlib.pyplot as plt"
   ]
  },
  {
   "cell_type": "code",
   "execution_count": 3,
   "id": "321aa7b2",
   "metadata": {},
   "outputs": [],
   "source": [
    "trainData = pd.read_csv('datasets/train.csv')"
   ]
  },
  {
   "cell_type": "code",
   "execution_count": 4,
   "id": "5590b832",
   "metadata": {},
   "outputs": [],
   "source": [
    "x = trainData[['crim','zn','indus', 'chas', 'nox', 'rm', 'age', 'dis', 'rad', 'tax', 'ptratio', 'black', 'lstat']]\n"
   ]
  },
  {
   "cell_type": "code",
   "execution_count": 5,
   "id": "4c2e5d84",
   "metadata": {},
   "outputs": [],
   "source": [
    "y = trainData['medv'].astype(float)"
   ]
  },
  {
   "cell_type": "code",
   "execution_count": 21,
   "id": "94868678",
   "metadata": {},
   "outputs": [],
   "source": [
    "# x = x.values"
   ]
  },
  {
   "cell_type": "code",
   "execution_count": 6,
   "id": "7edeeadc",
   "metadata": {},
   "outputs": [],
   "source": [
    "model = LinearRegression()"
   ]
  },
  {
   "cell_type": "code",
   "execution_count": 7,
   "id": "6ecb7829",
   "metadata": {},
   "outputs": [
    {
     "data": {
      "text/html": [
       "<style>#sk-container-id-1 {color: black;}#sk-container-id-1 pre{padding: 0;}#sk-container-id-1 div.sk-toggleable {background-color: white;}#sk-container-id-1 label.sk-toggleable__label {cursor: pointer;display: block;width: 100%;margin-bottom: 0;padding: 0.3em;box-sizing: border-box;text-align: center;}#sk-container-id-1 label.sk-toggleable__label-arrow:before {content: \"▸\";float: left;margin-right: 0.25em;color: #696969;}#sk-container-id-1 label.sk-toggleable__label-arrow:hover:before {color: black;}#sk-container-id-1 div.sk-estimator:hover label.sk-toggleable__label-arrow:before {color: black;}#sk-container-id-1 div.sk-toggleable__content {max-height: 0;max-width: 0;overflow: hidden;text-align: left;background-color: #f0f8ff;}#sk-container-id-1 div.sk-toggleable__content pre {margin: 0.2em;color: black;border-radius: 0.25em;background-color: #f0f8ff;}#sk-container-id-1 input.sk-toggleable__control:checked~div.sk-toggleable__content {max-height: 200px;max-width: 100%;overflow: auto;}#sk-container-id-1 input.sk-toggleable__control:checked~label.sk-toggleable__label-arrow:before {content: \"▾\";}#sk-container-id-1 div.sk-estimator input.sk-toggleable__control:checked~label.sk-toggleable__label {background-color: #d4ebff;}#sk-container-id-1 div.sk-label input.sk-toggleable__control:checked~label.sk-toggleable__label {background-color: #d4ebff;}#sk-container-id-1 input.sk-hidden--visually {border: 0;clip: rect(1px 1px 1px 1px);clip: rect(1px, 1px, 1px, 1px);height: 1px;margin: -1px;overflow: hidden;padding: 0;position: absolute;width: 1px;}#sk-container-id-1 div.sk-estimator {font-family: monospace;background-color: #f0f8ff;border: 1px dotted black;border-radius: 0.25em;box-sizing: border-box;margin-bottom: 0.5em;}#sk-container-id-1 div.sk-estimator:hover {background-color: #d4ebff;}#sk-container-id-1 div.sk-parallel-item::after {content: \"\";width: 100%;border-bottom: 1px solid gray;flex-grow: 1;}#sk-container-id-1 div.sk-label:hover label.sk-toggleable__label {background-color: #d4ebff;}#sk-container-id-1 div.sk-serial::before {content: \"\";position: absolute;border-left: 1px solid gray;box-sizing: border-box;top: 0;bottom: 0;left: 50%;z-index: 0;}#sk-container-id-1 div.sk-serial {display: flex;flex-direction: column;align-items: center;background-color: white;padding-right: 0.2em;padding-left: 0.2em;position: relative;}#sk-container-id-1 div.sk-item {position: relative;z-index: 1;}#sk-container-id-1 div.sk-parallel {display: flex;align-items: stretch;justify-content: center;background-color: white;position: relative;}#sk-container-id-1 div.sk-item::before, #sk-container-id-1 div.sk-parallel-item::before {content: \"\";position: absolute;border-left: 1px solid gray;box-sizing: border-box;top: 0;bottom: 0;left: 50%;z-index: -1;}#sk-container-id-1 div.sk-parallel-item {display: flex;flex-direction: column;z-index: 1;position: relative;background-color: white;}#sk-container-id-1 div.sk-parallel-item:first-child::after {align-self: flex-end;width: 50%;}#sk-container-id-1 div.sk-parallel-item:last-child::after {align-self: flex-start;width: 50%;}#sk-container-id-1 div.sk-parallel-item:only-child::after {width: 0;}#sk-container-id-1 div.sk-dashed-wrapped {border: 1px dashed gray;margin: 0 0.4em 0.5em 0.4em;box-sizing: border-box;padding-bottom: 0.4em;background-color: white;}#sk-container-id-1 div.sk-label label {font-family: monospace;font-weight: bold;display: inline-block;line-height: 1.2em;}#sk-container-id-1 div.sk-label-container {text-align: center;}#sk-container-id-1 div.sk-container {/* jupyter's `normalize.less` sets `[hidden] { display: none; }` but bootstrap.min.css set `[hidden] { display: none !important; }` so we also need the `!important` here to be able to override the default hidden behavior on the sphinx rendered scikit-learn.org. See: https://github.com/scikit-learn/scikit-learn/issues/21755 */display: inline-block !important;position: relative;}#sk-container-id-1 div.sk-text-repr-fallback {display: none;}</style><div id=\"sk-container-id-1\" class=\"sk-top-container\"><div class=\"sk-text-repr-fallback\"><pre>LinearRegression()</pre><b>In a Jupyter environment, please rerun this cell to show the HTML representation or trust the notebook. <br />On GitHub, the HTML representation is unable to render, please try loading this page with nbviewer.org.</b></div><div class=\"sk-container\" hidden><div class=\"sk-item\"><div class=\"sk-estimator sk-toggleable\"><input class=\"sk-toggleable__control sk-hidden--visually\" id=\"sk-estimator-id-1\" type=\"checkbox\" checked><label for=\"sk-estimator-id-1\" class=\"sk-toggleable__label sk-toggleable__label-arrow\">LinearRegression</label><div class=\"sk-toggleable__content\"><pre>LinearRegression()</pre></div></div></div></div></div>"
      ],
      "text/plain": [
       "LinearRegression()"
      ]
     },
     "execution_count": 7,
     "metadata": {},
     "output_type": "execute_result"
    }
   ],
   "source": [
    "model.fit(x, y)"
   ]
  },
  {
   "cell_type": "code",
   "execution_count": 8,
   "id": "3fdb815b",
   "metadata": {},
   "outputs": [],
   "source": [
    "testData = pd.read_csv('datasets/test.csv')"
   ]
  },
  {
   "cell_type": "code",
   "execution_count": 10,
   "id": "f15cc4ed",
   "metadata": {},
   "outputs": [],
   "source": [
    "x_test = testData[['crim','zn','indus', 'chas', 'nox', 'rm', 'age', 'dis', 'rad', 'tax', 'ptratio', 'black', 'lstat']]"
   ]
  },
  {
   "cell_type": "code",
   "execution_count": 11,
   "id": "baa84bd1",
   "metadata": {},
   "outputs": [],
   "source": [
    "y_pred = model.predict(x_test.astype(float))"
   ]
  },
  {
   "cell_type": "code",
   "execution_count": 12,
   "id": "a0787c03",
   "metadata": {},
   "outputs": [
    {
     "data": {
      "text/plain": [
       "array([30.59959405, 25.10045908, 18.15899329,  9.30347646, 17.68972915,\n",
       "       16.65182092, 18.51882129, 15.23793478, 12.77539026, 15.09480043,\n",
       "       19.32857545, 20.7603967 ,  7.25650407, 13.675262  , 23.76968476,\n",
       "       22.16124319, 23.23698123, 28.24020488,  6.95192158, 27.57212726,\n",
       "       20.94591814, 23.88416113, 20.51730788, 21.71863158, 20.92650021,\n",
       "       22.50487235, 26.03767504, 27.13701546, 29.18599823, 28.34345301,\n",
       "       35.62031213, 35.20970596, 32.03584105, 21.36328231, 18.15874459,\n",
       "       20.68968026, 20.21639887, 20.06733566, 19.80862845, 22.80952871,\n",
       "       14.24251311, 20.5551442 , 20.67918759, 17.47377758, 13.27568977,\n",
       "       11.76625287,  8.09536665, 15.51847406, 18.62611878, 21.6956843 ,\n",
       "       20.96229314, 33.66835399, 42.31009306, 26.23920334, 21.98840175,\n",
       "       24.15677069, 32.20837756, 40.51664053, 35.35519512, 33.70726511,\n",
       "       29.78892509, 36.76125057, 17.13313212, 16.93836757, 22.7582338 ,\n",
       "       23.42171226, 24.61986453, 28.27753006, 25.34688276, 30.6269544 ,\n",
       "       34.03164695, 35.91316056, 33.32124549, 32.82912132, 28.24274688,\n",
       "       28.04833267, 22.89623032, 12.23608244, 19.21588222, 25.08367276,\n",
       "       23.31690787, 20.92075871, 37.29793119, 43.18489606, 36.13190081,\n",
       "       34.73702031, 40.46392133, 26.35445925, 21.97380191, 34.07830089,\n",
       "       36.65310807, 36.15884363, 30.39602607, 38.46115856, 26.69109246,\n",
       "       26.35494131, 34.72377855, 24.11382065, 28.45490921, 28.5519964 ,\n",
       "       31.39934368, 30.01270692, 32.64273107, 25.66386663, 25.44479659,\n",
       "       21.17632865, 25.08173409, 23.05249878, 19.19553032, 24.02787965,\n",
       "       23.95933163, 19.29496816, 22.93507672, 20.81309351, 19.18061763,\n",
       "       15.87728325, 13.89090823, 20.0684476 , 19.92549671, 24.83185034,\n",
       "       14.08551069, 16.53208915, 19.8688358 , 22.3177618 , 40.05409118,\n",
       "       35.36830525, 27.07661707, 17.09481131, 17.89872901, 19.74471524,\n",
       "       19.471968  ,  8.49518843,  6.70147935, 18.08096582, 21.33520316,\n",
       "       21.22391127, 17.02479052, 10.9322236 , 18.95385034,  9.31553895,\n",
       "       12.00642356,  9.19130335, 20.19073094, 17.96193105, 16.8321656 ,\n",
       "        0.92727525, 12.87106   , 20.67436918, 18.96491456, 19.53463425,\n",
       "       12.52530694, 16.69777303, 18.1286048 , 13.36956676, 14.93323544,\n",
       "        4.1933138 , 18.33128713, 17.7204339 , 16.40325549, 15.21503719,\n",
       "       12.39722125, 20.68477481, 26.56934601, 15.92847428, 29.73725306,\n",
       "       23.21495735,  7.74183228, 20.75407171, 16.76329402, 13.41517932,\n",
       "       21.36144598, 20.34130232, 26.67548781])"
      ]
     },
     "execution_count": 12,
     "metadata": {},
     "output_type": "execute_result"
    }
   ],
   "source": [
    "y_pred"
   ]
  },
  {
   "cell_type": "code",
   "execution_count": null,
   "id": "baa74e17",
   "metadata": {},
   "outputs": [],
   "source": []
  }
 ],
 "metadata": {
  "kernelspec": {
   "display_name": "linearRegression",
   "language": "python",
   "name": "linearregression"
  },
  "language_info": {
   "codemirror_mode": {
    "name": "ipython",
    "version": 3
   },
   "file_extension": ".py",
   "mimetype": "text/x-python",
   "name": "python",
   "nbconvert_exporter": "python",
   "pygments_lexer": "ipython3",
   "version": "3.10.9"
  }
 },
 "nbformat": 4,
 "nbformat_minor": 5
}
