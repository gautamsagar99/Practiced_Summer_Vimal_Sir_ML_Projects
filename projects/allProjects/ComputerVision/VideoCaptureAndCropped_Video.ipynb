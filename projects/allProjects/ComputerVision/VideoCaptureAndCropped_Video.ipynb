{
 "cells": [
  {
   "cell_type": "code",
   "execution_count": 1,
   "id": "767b1938",
   "metadata": {},
   "outputs": [],
   "source": [
    "import numpy as np\n",
    "import cv2 as cv"
   ]
  },
  {
   "cell_type": "code",
   "execution_count": 48,
   "id": "801a8858",
   "metadata": {},
   "outputs": [],
   "source": [
    "# Video capturing"
   ]
  },
  {
   "cell_type": "code",
   "execution_count": 49,
   "id": "bfcaf819",
   "metadata": {},
   "outputs": [],
   "source": [
    "cap = cv.VideoCapture(0)\n",
    "if not cap.isOpened():\n",
    "    print(\"Cannot open camera\")\n",
    "    exit()\n",
    "while True:\n",
    "     # Capture frame-by-frame\n",
    "    ret, frame = cap.read()\n",
    "    # if frame is read correctly ret is True\n",
    "    if not ret:\n",
    "        print(\"Can't receive frame (stream end?). Exiting ...\")\n",
    "        break\n",
    "        \n",
    "    \n",
    "    cv.imshow('frame', frame)\n",
    "    \n",
    "    if cv.waitKey(1) == ord('q'):\n",
    "        break\n",
    "        \n",
    "#     if cv.waitKey(2000):\n",
    "#         break\n",
    "        \n",
    "\n",
    "# When everything done, release the capture\n",
    "cap.release()\n",
    "cv.destroyAllWindows()"
   ]
  },
  {
   "cell_type": "code",
   "execution_count": null,
   "id": "e9844ef3",
   "metadata": {},
   "outputs": [],
   "source": []
  },
  {
   "cell_type": "code",
   "execution_count": null,
   "id": "444ee2b9",
   "metadata": {},
   "outputs": [],
   "source": []
  },
  {
   "cell_type": "code",
   "execution_count": 50,
   "id": "62c99642",
   "metadata": {},
   "outputs": [],
   "source": [
    "# Image Cropping and overridig a part of it"
   ]
  },
  {
   "cell_type": "code",
   "execution_count": 51,
   "id": "8e9ee225",
   "metadata": {},
   "outputs": [
    {
     "name": "stdout",
     "output_type": "stream",
     "text": [
      "short image [[[ 53  72 116]\n",
      "  [ 54  72 118]\n",
      "  [ 65  83 131]\n",
      "  ...\n",
      "  [151 154 144]\n",
      "  [146 148 138]\n",
      "  [149 151 144]]\n",
      "\n",
      " [[ 59  77 126]\n",
      "  [ 61  78 127]\n",
      "  [ 72  90 138]\n",
      "  ...\n",
      "  [154 156 146]\n",
      "  [149 151 142]\n",
      "  [149 151 142]]\n",
      "\n",
      " [[ 60  86 124]\n",
      "  [ 60  87 130]\n",
      "  [ 63  91 138]\n",
      "  ...\n",
      "  [154 156 146]\n",
      "  [153 155 145]\n",
      "  [151 153 144]]\n",
      "\n",
      " ...\n",
      "\n",
      " [[137 136 109]\n",
      "  [135 138 110]\n",
      "  [135 139 111]\n",
      "  ...\n",
      "  [124 124 104]\n",
      "  [122 125 102]\n",
      "  [125 126 103]]\n",
      "\n",
      " [[130 134 107]\n",
      "  [132 137 108]\n",
      "  [133 137 109]\n",
      "  ...\n",
      "  [124 129 105]\n",
      "  [122 125 102]\n",
      "  [121 124 101]]\n",
      "\n",
      " [[128 133 110]\n",
      "  [129 135 111]\n",
      "  [130 136 112]\n",
      "  ...\n",
      "  [122 127 101]\n",
      "  [122 125 102]\n",
      "  [120 122 102]]]\n",
      "full image  [[[151 150 145]\n",
      "  [152 151 147]\n",
      "  [151 150 145]\n",
      "  ...\n",
      "  [114 139 150]\n",
      "  [113 138 148]\n",
      "  [113 139 147]]\n",
      "\n",
      " [[151 151 142]\n",
      "  [150 151 142]\n",
      "  [149 151 142]\n",
      "  ...\n",
      "  [121 138 150]\n",
      "  [124 140 150]\n",
      "  [123 139 148]]\n",
      "\n",
      " [[152 153 139]\n",
      "  [154 152 138]\n",
      "  [155 152 138]\n",
      "  ...\n",
      "  [112 138 149]\n",
      "  [117 142 151]\n",
      "  [117 142 151]]\n",
      "\n",
      " ...\n",
      "\n",
      " [[107 120 125]\n",
      "  [109 122 127]\n",
      "  [108 121 126]\n",
      "  ...\n",
      "  [117  89  92]\n",
      "  [115  90  92]\n",
      "  [118  92  94]]\n",
      "\n",
      " [[111 123 129]\n",
      "  [109 122 129]\n",
      "  [108 120 130]\n",
      "  ...\n",
      "  [108  88  85]\n",
      "  [115  91  88]\n",
      "  [118  93  91]]\n",
      "\n",
      " [[111 123 129]\n",
      "  [112 121 130]\n",
      "  [113 119 130]\n",
      "  ...\n",
      "  [108  89  79]\n",
      "  [115  93  81]\n",
      "  [117  94  82]]]\n"
     ]
    }
   ],
   "source": [
    "cap = cv.VideoCapture(0)\n",
    "if not cap.isOpened():\n",
    "    print(\"Cannot open camera\")\n",
    "    exit()\n",
    "# while True:\n",
    " # Capture frame-by-frame\n",
    "ret, frame = cap.read()\n",
    "# if frame is read correctly ret is True\n",
    "# if not ret:\n",
    "#     print(\"Can't receive frame (stream end?). Exiting ...\")\n",
    "#     break\n",
    "\n",
    "\n",
    "frame1 = frame[100:300, 200:500] \n",
    "frame[:200, :300]  = frame1\n",
    "print(\"short image\", frame1)\n",
    "print(\"full image \",frame)\n",
    "# cv.imshow('frame', frame)\n",
    "# \n",
    "# if cv.waitKey(1) == ord('q'):\n",
    "#     break\n",
    "        \n",
    "#     if cv.waitKey(2000):\n",
    "#         break\n",
    "        \n",
    "cv.imwrite('frame.jpg', frame)\n",
    "cv.imwrite('frame1.jpg', frame1)\n",
    "\n",
    "# When everything done, release the capture\n",
    "cap.release()\n",
    "# cv.destroyAllWindows()"
   ]
  },
  {
   "cell_type": "code",
   "execution_count": 52,
   "id": "435c4bea",
   "metadata": {},
   "outputs": [],
   "source": [
    "# cap.release()"
   ]
  },
  {
   "cell_type": "code",
   "execution_count": 53,
   "id": "6fe95aa7",
   "metadata": {},
   "outputs": [
    {
     "data": {
      "text/plain": [
       "(480, 640, 3)"
      ]
     },
     "execution_count": 53,
     "metadata": {},
     "output_type": "execute_result"
    }
   ],
   "source": [
    "frame.shape"
   ]
  },
  {
   "cell_type": "code",
   "execution_count": 54,
   "id": "32f47300",
   "metadata": {},
   "outputs": [
    {
     "data": {
      "text/plain": [
       "(200, 300, 3)"
      ]
     },
     "execution_count": 54,
     "metadata": {},
     "output_type": "execute_result"
    }
   ],
   "source": [
    "frame1.shape"
   ]
  },
  {
   "cell_type": "code",
   "execution_count": null,
   "id": "332a6bea",
   "metadata": {},
   "outputs": [],
   "source": []
  },
  {
   "cell_type": "code",
   "execution_count": 55,
   "id": "87fa044b",
   "metadata": {},
   "outputs": [
    {
     "data": {
      "text/plain": [
       "280"
      ]
     },
     "execution_count": 55,
     "metadata": {},
     "output_type": "execute_result"
    }
   ],
   "source": [
    "480- 200"
   ]
  },
  {
   "cell_type": "code",
   "execution_count": 56,
   "id": "fe87130e",
   "metadata": {},
   "outputs": [
    {
     "data": {
      "text/plain": [
       "440"
      ]
     },
     "execution_count": 56,
     "metadata": {},
     "output_type": "execute_result"
    }
   ],
   "source": [
    "640 - 200"
   ]
  },
  {
   "cell_type": "code",
   "execution_count": 57,
   "id": "fb95e235",
   "metadata": {},
   "outputs": [],
   "source": [
    "# Cropped Image on top left corner"
   ]
  },
  {
   "cell_type": "code",
   "execution_count": 58,
   "id": "b8512625",
   "metadata": {},
   "outputs": [],
   "source": [
    "cap = cv.VideoCapture(0)\n",
    "if not cap.isOpened():\n",
    "    print(\"Cannot open camera\")\n",
    "    exit()\n",
    "while True:\n",
    "    # Capture frame-by-frame\n",
    "    ret, frame = cap.read()\n",
    "#     if frame is read correctly ret is True\n",
    "    if not ret:\n",
    "        print(\"Can't receive frame (stream end?). Exiting ...\")\n",
    "        break\n",
    "\n",
    "\n",
    "    frame1 = frame[100:300, 300:500] \n",
    "    frame[:200, :200]  = frame1\n",
    "    cv.imshow('frame', frame)\n",
    "\n",
    "    if cv.waitKey(1) == ord('q'):\n",
    "        break\n",
    "\n",
    "        if cv.waitKey(2000):\n",
    "            break\n",
    "\n",
    "\n",
    "# When everything done, release the capture\n",
    "cap.release()\n",
    "cv.destroyAllWindows()"
   ]
  },
  {
   "cell_type": "code",
   "execution_count": null,
   "id": "8bb1902a",
   "metadata": {},
   "outputs": [],
   "source": []
  },
  {
   "cell_type": "code",
   "execution_count": null,
   "id": "e37cbb5b",
   "metadata": {},
   "outputs": [],
   "source": []
  },
  {
   "cell_type": "code",
   "execution_count": null,
   "id": "6ad22a17",
   "metadata": {},
   "outputs": [],
   "source": []
  },
  {
   "cell_type": "code",
   "execution_count": 61,
   "id": "89286e39",
   "metadata": {},
   "outputs": [],
   "source": [
    "# Video and sub video on bottom right corner"
   ]
  },
  {
   "cell_type": "code",
   "execution_count": 60,
   "id": "4010851b",
   "metadata": {},
   "outputs": [],
   "source": [
    "cap = cv.VideoCapture(0)\n",
    "if not cap.isOpened():\n",
    "    print(\"Cannot open camera\")\n",
    "    exit()\n",
    "while True:\n",
    "    # Capture frame-by-frame\n",
    "    ret, frame = cap.read()\n",
    "#     if frame is read correctly ret is True\n",
    "    if not ret:\n",
    "        print(\"Can't receive frame (stream end?). Exiting ...\")\n",
    "        break\n",
    "\n",
    "\n",
    "    frame1 = frame[100:300, 300:500] \n",
    "    frame[280:, 440:]  = frame1\n",
    "    cv.imshow('frame', frame)\n",
    "\n",
    "    if cv.waitKey(1) == ord('q'):\n",
    "        break\n",
    "\n",
    "        if cv.waitKey(2000):\n",
    "            break\n",
    "\n",
    "\n",
    "# When everything done, release the capture\n",
    "cap.release()\n",
    "cv.destroyAllWindows()"
   ]
  },
  {
   "cell_type": "code",
   "execution_count": null,
   "id": "7ab55fd7",
   "metadata": {},
   "outputs": [],
   "source": []
  }
 ],
 "metadata": {
  "kernelspec": {
   "display_name": "allMLModelProjects",
   "language": "python",
   "name": "allmlmodelprojects"
  },
  "language_info": {
   "codemirror_mode": {
    "name": "ipython",
    "version": 3
   },
   "file_extension": ".py",
   "mimetype": "text/x-python",
   "name": "python",
   "nbconvert_exporter": "python",
   "pygments_lexer": "ipython3",
   "version": "3.10.9"
  }
 },
 "nbformat": 4,
 "nbformat_minor": 5
}
