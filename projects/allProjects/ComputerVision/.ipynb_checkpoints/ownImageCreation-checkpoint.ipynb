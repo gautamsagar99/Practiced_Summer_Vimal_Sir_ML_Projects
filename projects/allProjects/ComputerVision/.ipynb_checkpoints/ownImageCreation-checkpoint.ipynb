{
 "cells": [
  {
   "cell_type": "code",
   "execution_count": 1,
   "id": "938dce2f",
   "metadata": {},
   "outputs": [],
   "source": [
    "import numpy as np\n",
    "import matplotlib.pyplot as plt\n",
    "\n",
    "def create_art_pattern(width, height):\n",
    "    # Create a canvas (empty 3D array with RGB values)\n",
    "    canvas = np.zeros((height, width, 3), dtype=np.uint8)\n",
    "\n",
    "    # Set the colors for the pattern (R, G, B values)\n",
    "    color1 = (255, 0, 0)  # Red\n",
    "    color2 = (0, 255, 0)  # Green\n",
    "    color3 = (0, 0, 255)  # Blue\n",
    "\n",
    "    # Define the number of segments for the pattern\n",
    "    num_segments = 10\n",
    "\n",
    "    # Calculate the step size for each segment\n",
    "    step_size = width // num_segments\n",
    "\n",
    "    # Create the pattern\n",
    "    for i in range(num_segments):\n",
    "        x_start = i * step_size\n",
    "        x_end = (i + 1) * step_size\n",
    "\n",
    "        if i % 3 == 0:\n",
    "            canvas[:, x_start:x_end] = color1\n",
    "        elif i % 3 == 1:\n",
    "            canvas[:, x_start:x_end] = color2\n",
    "        else:\n",
    "            canvas[:, x_start:x_end] = color3\n",
    "\n",
    "    return canvas\n"
   ]
  },
  {
   "cell_type": "code",
   "execution_count": 2,
   "id": "9bdba690",
   "metadata": {},
   "outputs": [
    {
     "data": {
      "image/png": "[encoded data removed]",
      "text/plain": [
       "<Figure size 640x480 with 1 Axes>"
      ]
     },
     "metadata": {},
     "output_type": "display_data"
    }
   ],
   "source": [
    "if __name__ == \"__main__\":\n",
    "    width, height = 800, 400\n",
    "    art_pattern = create_art_pattern(width, height)\n",
    "\n",
    "    plt.imshow(art_pattern)\n",
    "    plt.axis('off')\n",
    "    plt.show()\n"
   ]
  },
  {
   "cell_type": "code",
   "execution_count": null,
   "id": "d8f7e8a7",
   "metadata": {},
   "outputs": [],
   "source": []
  }
 ],
 "metadata": {
  "kernelspec": {
   "display_name": "allMLModelProjects",
   "language": "python",
   "name": "allmlmodelprojects"
  },
  "language_info": {
   "codemirror_mode": {
    "name": "ipython",
    "version": 3
   },
   "file_extension": ".py",
   "mimetype": "text/x-python",
   "name": "python",
   "nbconvert_exporter": "python",
   "pygments_lexer": "ipython3",
   "version": "3.10.9"
  }
 },
 "nbformat": 4,
 "nbformat_minor": 5
}
