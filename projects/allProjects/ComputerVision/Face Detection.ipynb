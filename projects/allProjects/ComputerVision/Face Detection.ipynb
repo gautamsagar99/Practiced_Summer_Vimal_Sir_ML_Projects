{
 "cells": [
  {
   "cell_type": "code",
   "execution_count": 1,
   "id": "804f9754",
   "metadata": {},
   "outputs": [],
   "source": [
    "import cv2"
   ]
  },
  {
   "cell_type": "code",
   "execution_count": 2,
   "id": "72c08ee6",
   "metadata": {},
   "outputs": [],
   "source": [
    "cap = cv2.VideoCapture(0)"
   ]
  },
  {
   "cell_type": "code",
   "execution_count": 3,
   "id": "087a49f7",
   "metadata": {},
   "outputs": [],
   "source": [
    "model = cv2.CascadeClassifier('haarcascade_frontalface_default.xml')"
   ]
  },
  {
   "cell_type": "code",
   "execution_count": 4,
   "id": "47fed3de",
   "metadata": {},
   "outputs": [],
   "source": [
    "# ret, photo = cap.read()"
   ]
  },
  {
   "cell_type": "code",
   "execution_count": 5,
   "id": "259a6bf2",
   "metadata": {},
   "outputs": [],
   "source": [
    "# cv2.imshow('hi', photo)\n",
    "# cv2.waitKey()\n",
    "# cv2.destroyAllWindows()"
   ]
  },
  {
   "cell_type": "code",
   "execution_count": 6,
   "id": "a1a68b7c",
   "metadata": {},
   "outputs": [],
   "source": [
    "# cap.release()"
   ]
  },
  {
   "cell_type": "code",
   "execution_count": null,
   "id": "3a426a1f",
   "metadata": {},
   "outputs": [],
   "source": []
  },
  {
   "cell_type": "code",
   "execution_count": null,
   "id": "2441387e",
   "metadata": {},
   "outputs": [],
   "source": []
  },
  {
   "cell_type": "code",
   "execution_count": null,
   "id": "7d2a390d",
   "metadata": {},
   "outputs": [],
   "source": []
  },
  {
   "cell_type": "code",
   "execution_count": 7,
   "id": "f83bda14",
   "metadata": {},
   "outputs": [
    {
     "name": "stdout",
     "output_type": "stream",
     "text": [
      "no faces\n",
      "no faces\n",
      "no faces\n",
      "no faces\n",
      "no faces\n",
      "no faces\n",
      "no faces\n",
      "no faces\n",
      "no faces\n",
      "no faces\n",
      "no faces\n",
      "no faces\n",
      "no faces\n",
      "no faces\n",
      "no faces\n",
      "no faces\n",
      "no faces\n",
      "no faces\n",
      "no faces\n",
      "no faces\n",
      "no faces\n",
      "no faces\n",
      "no faces\n",
      "no faces\n",
      "no faces\n",
      "no faces\n",
      "no faces\n",
      "no faces\n",
      "no faces\n",
      "no faces\n",
      "no faces\n",
      "no faces\n",
      "no faces\n",
      "no faces\n",
      "no faces\n",
      "no faces\n",
      "no faces\n",
      "no faces\n",
      "no faces\n",
      "no faces\n",
      "no faces\n",
      "no faces\n",
      "no faces\n",
      "no faces\n",
      "no faces\n",
      "no faces\n",
      "no faces\n",
      "no faces\n",
      "no faces\n",
      "no faces\n",
      "no faces\n",
      "no faces\n",
      "no faces\n",
      "no faces\n",
      "no faces\n",
      "no faces\n",
      "no faces\n",
      "no faces\n",
      "no faces\n",
      "no faces\n",
      "no faces\n",
      "no faces\n",
      "no faces\n",
      "no faces\n",
      "no faces\n",
      "no faces\n",
      "no faces\n",
      "no faces\n",
      "no faces\n",
      "no faces\n",
      "no faces\n",
      "no faces\n",
      "no faces\n",
      "no faces\n",
      "no faces\n",
      "no faces\n",
      "no faces\n",
      "no faces\n",
      "no faces\n",
      "no faces\n",
      "no faces\n",
      "no faces\n",
      "no faces\n",
      "no faces\n",
      "no faces\n",
      "no faces\n",
      "no faces\n",
      "no faces\n",
      "no faces\n",
      "no faces\n",
      "no faces\n",
      "no faces\n",
      "no faces\n",
      "no faces\n",
      "no faces\n",
      "no faces\n",
      "no faces\n",
      "no faces\n",
      "no faces\n",
      "no faces\n",
      "no faces\n",
      "no faces\n",
      "no faces\n",
      "no faces\n",
      "no faces\n",
      "no faces\n"
     ]
    }
   ],
   "source": [
    "while True:\n",
    "    ret, photo = cap.read()\n",
    "    fdetect  = model.detectMultiScale(photo)\n",
    "    if len(fdetect) == 0:\n",
    "        print(\"no faces\")\n",
    "    else:\n",
    "        x1 = fdetect[0][0]\n",
    "        y1 = fdetect[0][1]\n",
    "        x2 = fdetect[0][2] + x1\n",
    "        y2 = fdetect[0][3] + y1 \n",
    "        rphoto = cv2.rectangle(photo , (x1,y1), (x2,y2), [0, 255,0] , 2)\n",
    "        #cphoto = photo[y1:y2 , x1:x2]\n",
    "        # bphoto = cv2.blur(cphoto, (15,15))\n",
    "        cv2.imshow('hi', photo)\n",
    "        if cv2.waitKey(100) == 13:\n",
    "            break\n",
    "        \n",
    "        \n",
    "cv2.destroyAllWindows()"
   ]
  },
  {
   "cell_type": "code",
   "execution_count": 8,
   "id": "a9143b12",
   "metadata": {},
   "outputs": [],
   "source": [
    "cap.release()"
   ]
  },
  {
   "cell_type": "code",
   "execution_count": null,
   "id": "8a9978b3",
   "metadata": {},
   "outputs": [],
   "source": []
  }
 ],
 "metadata": {
  "kernelspec": {
   "display_name": "allMLModelProjects",
   "language": "python",
   "name": "allmlmodelprojects"
  },
  "language_info": {
   "codemirror_mode": {
    "name": "ipython",
    "version": 3
   },
   "file_extension": ".py",
   "mimetype": "text/x-python",
   "name": "python",
   "nbconvert_exporter": "python",
   "pygments_lexer": "ipython3",
   "version": "3.10.9"
  }
 },
 "nbformat": 4,
 "nbformat_minor": 5
}
