{
 "cells": [
  {
   "cell_type": "code",
   "execution_count": 1,
   "id": "fba9bed9",
   "metadata": {},
   "outputs": [],
   "source": [
    "import cv2\n",
    "\n",
    "def video_chat():\n",
    "    cap = cv2.VideoCapture(0)  # Capturing video from the default camera (you can change the camera index if needed)\n",
    "\n",
    "    while True:\n",
    "        ret, frame = cap.read()  # Read a frame from the camera\n",
    "\n",
    "        # If the frame is not read properly, break the loop\n",
    "        if not ret:\n",
    "            break\n",
    "\n",
    "        cv2.imshow('Video Chat', frame)  # Display the frame in a window named 'Video Chat'\n",
    "\n",
    "        # Break the loop when 'q' key is pressed\n",
    "        if cv2.waitKey(1) & 0xFF == ord('q'):\n",
    "            break\n",
    "\n",
    "    cap.release()  # Release the camera\n",
    "    cv2.destroyAllWindows()  # Close all OpenCV windows\n"
   ]
  },
  {
   "cell_type": "code",
   "execution_count": 2,
   "id": "985e60fe",
   "metadata": {},
   "outputs": [],
   "source": [
    "if __name__ == \"__main__\":\n",
    "    video_chat()"
   ]
  },
  {
   "cell_type": "code",
   "execution_count": null,
   "id": "e203befe",
   "metadata": {},
   "outputs": [],
   "source": []
  }
 ],
 "metadata": {
  "kernelspec": {
   "display_name": "allMLModelProjects",
   "language": "python",
   "name": "allmlmodelprojects"
  },
  "language_info": {
   "codemirror_mode": {
    "name": "ipython",
    "version": 3
   },
   "file_extension": ".py",
   "mimetype": "text/x-python",
   "name": "python",
   "nbconvert_exporter": "python",
   "pygments_lexer": "ipython3",
   "version": "3.10.9"
  }
 },
 "nbformat": 4,
 "nbformat_minor": 5
}
