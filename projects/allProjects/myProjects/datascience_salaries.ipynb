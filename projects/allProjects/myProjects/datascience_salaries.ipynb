{
 "cells": [
  {
   "cell_type": "code",
   "execution_count": 1,
   "id": "b4dc9617",
   "metadata": {},
   "outputs": [],
   "source": [
    "import pandas as pd"
   ]
  },
  {
   "cell_type": "code",
   "execution_count": 2,
   "id": "53b55f33",
   "metadata": {},
   "outputs": [],
   "source": [
    "dataset = pd.read_csv('datasets/ds_salaries.csv', index_col=0)"
   ]
  },
  {
   "cell_type": "code",
   "execution_count": 3,
   "id": "dbc04dd5",
   "metadata": {},
   "outputs": [
    {
     "data": {
      "text/html": [
       "<div>\n",
       "<style scoped>\n",
       "    .dataframe tbody tr th:only-of-type {\n",
       "        vertical-align: middle;\n",
       "    }\n",
       "\n",
       "    .dataframe tbody tr th {\n",
       "        vertical-align: top;\n",
       "    }\n",
       "\n",
       "    .dataframe thead th {\n",
       "        text-align: right;\n",
       "    }\n",
       "</style>\n",
       "<table border=\"1\" class=\"dataframe\">\n",
       "  <thead>\n",
       "    <tr style=\"text-align: right;\">\n",
       "      <th></th>\n",
       "      <th>work_year</th>\n",
       "      <th>experience_level</th>\n",
       "      <th>employment_type</th>\n",
       "      <th>job_title</th>\n",
       "      <th>salary</th>\n",
       "      <th>salary_currency</th>\n",
       "      <th>salary_in_usd</th>\n",
       "      <th>employee_residence</th>\n",
       "      <th>remote_ratio</th>\n",
       "      <th>company_location</th>\n",
       "      <th>company_size</th>\n",
       "    </tr>\n",
       "  </thead>\n",
       "  <tbody>\n",
       "    <tr>\n",
       "      <th>0</th>\n",
       "      <td>2020</td>\n",
       "      <td>MI</td>\n",
       "      <td>FT</td>\n",
       "      <td>Data Scientist</td>\n",
       "      <td>70000</td>\n",
       "      <td>EUR</td>\n",
       "      <td>79833</td>\n",
       "      <td>DE</td>\n",
       "      <td>0</td>\n",
       "      <td>DE</td>\n",
       "      <td>L</td>\n",
       "    </tr>\n",
       "    <tr>\n",
       "      <th>1</th>\n",
       "      <td>2020</td>\n",
       "      <td>SE</td>\n",
       "      <td>FT</td>\n",
       "      <td>Machine Learning Scientist</td>\n",
       "      <td>260000</td>\n",
       "      <td>USD</td>\n",
       "      <td>260000</td>\n",
       "      <td>JP</td>\n",
       "      <td>0</td>\n",
       "      <td>JP</td>\n",
       "      <td>S</td>\n",
       "    </tr>\n",
       "    <tr>\n",
       "      <th>2</th>\n",
       "      <td>2020</td>\n",
       "      <td>SE</td>\n",
       "      <td>FT</td>\n",
       "      <td>Big Data Engineer</td>\n",
       "      <td>85000</td>\n",
       "      <td>GBP</td>\n",
       "      <td>109024</td>\n",
       "      <td>GB</td>\n",
       "      <td>50</td>\n",
       "      <td>GB</td>\n",
       "      <td>M</td>\n",
       "    </tr>\n",
       "    <tr>\n",
       "      <th>3</th>\n",
       "      <td>2020</td>\n",
       "      <td>MI</td>\n",
       "      <td>FT</td>\n",
       "      <td>Product Data Analyst</td>\n",
       "      <td>20000</td>\n",
       "      <td>USD</td>\n",
       "      <td>20000</td>\n",
       "      <td>HN</td>\n",
       "      <td>0</td>\n",
       "      <td>HN</td>\n",
       "      <td>S</td>\n",
       "    </tr>\n",
       "    <tr>\n",
       "      <th>4</th>\n",
       "      <td>2020</td>\n",
       "      <td>SE</td>\n",
       "      <td>FT</td>\n",
       "      <td>Machine Learning Engineer</td>\n",
       "      <td>150000</td>\n",
       "      <td>USD</td>\n",
       "      <td>150000</td>\n",
       "      <td>US</td>\n",
       "      <td>50</td>\n",
       "      <td>US</td>\n",
       "      <td>L</td>\n",
       "    </tr>\n",
       "  </tbody>\n",
       "</table>\n",
       "</div>"
      ],
      "text/plain": [
       "   work_year experience_level employment_type                   job_title  \\\n",
       "0       2020               MI              FT              Data Scientist   \n",
       "1       2020               SE              FT  Machine Learning Scientist   \n",
       "2       2020               SE              FT           Big Data Engineer   \n",
       "3       2020               MI              FT        Product Data Analyst   \n",
       "4       2020               SE              FT   Machine Learning Engineer   \n",
       "\n",
       "   salary salary_currency  salary_in_usd employee_residence  remote_ratio  \\\n",
       "0   70000             EUR          79833                 DE             0   \n",
       "1  260000             USD         260000                 JP             0   \n",
       "2   85000             GBP         109024                 GB            50   \n",
       "3   20000             USD          20000                 HN             0   \n",
       "4  150000             USD         150000                 US            50   \n",
       "\n",
       "  company_location company_size  \n",
       "0               DE            L  \n",
       "1               JP            S  \n",
       "2               GB            M  \n",
       "3               HN            S  \n",
       "4               US            L  "
      ]
     },
     "execution_count": 3,
     "metadata": {},
     "output_type": "execute_result"
    }
   ],
   "source": [
    "dataset.head()"
   ]
  },
  {
   "cell_type": "code",
   "execution_count": 22,
   "id": "b126a7df",
   "metadata": {},
   "outputs": [],
   "source": [
    "complet_ds = dataset.drop(['salary', 'salary_currency', 'employee_residence', 'remote_ratio'], axis=1)"
   ]
  },
  {
   "cell_type": "code",
   "execution_count": 18,
   "id": "8f7fe326",
   "metadata": {},
   "outputs": [
    {
     "data": {
      "text/plain": [
       "Index(['work_year', 'experience_level', 'employment_type', 'job_title',\n",
       "       'salary', 'salary_currency', 'salary_in_usd', 'employee_residence',\n",
       "       'remote_ratio', 'company_location', 'company_size'],\n",
       "      dtype='object')"
      ]
     },
     "execution_count": 18,
     "metadata": {},
     "output_type": "execute_result"
    }
   ],
   "source": [
    "dataset.columns"
   ]
  },
  {
   "cell_type": "code",
   "execution_count": 4,
   "id": "0acf6a8a",
   "metadata": {},
   "outputs": [
    {
     "data": {
      "text/plain": [
       "(607, 11)"
      ]
     },
     "execution_count": 4,
     "metadata": {},
     "output_type": "execute_result"
    }
   ],
   "source": [
    "dataset.shape"
   ]
  },
  {
   "cell_type": "code",
   "execution_count": 29,
   "id": "80f5aa3f",
   "metadata": {},
   "outputs": [],
   "source": [
    "X = pd.get_dummies(complet_ds, dtype='int')"
   ]
  },
  {
   "cell_type": "code",
   "execution_count": 32,
   "id": "153c9935",
   "metadata": {},
   "outputs": [],
   "source": [
    "X = X.drop(['salary_in_usd'], axis=1)"
   ]
  },
  {
   "cell_type": "code",
   "execution_count": 34,
   "id": "af9be58f",
   "metadata": {},
   "outputs": [],
   "source": [
    "y = complet_ds['salary_in_usd']"
   ]
  },
  {
   "cell_type": "code",
   "execution_count": 35,
   "id": "c3b84e26",
   "metadata": {},
   "outputs": [],
   "source": [
    "from sklearn.model_selection import train_test_split"
   ]
  },
  {
   "cell_type": "code",
   "execution_count": 36,
   "id": "1fb9ca58",
   "metadata": {},
   "outputs": [],
   "source": [
    " X_train, X_test, y_train, y_test = train_test_split( X, y, test_size=0.33, random_state=42)"
   ]
  },
  {
   "cell_type": "code",
   "execution_count": 39,
   "id": "72af2d41",
   "metadata": {},
   "outputs": [],
   "source": [
    "from sklearn.linear_model import LinearRegression"
   ]
  },
  {
   "cell_type": "code",
   "execution_count": 40,
   "id": "439d87a3",
   "metadata": {},
   "outputs": [],
   "source": [
    "model = LinearRegression()"
   ]
  },
  {
   "cell_type": "code",
   "execution_count": 41,
   "id": "6bc8ccbb",
   "metadata": {},
   "outputs": [
    {
     "data": {
      "text/html": [
       "<style>#sk-container-id-1 {color: black;}#sk-container-id-1 pre{padding: 0;}#sk-container-id-1 div.sk-toggleable {background-color: white;}#sk-container-id-1 label.sk-toggleable__label {cursor: pointer;display: block;width: 100%;margin-bottom: 0;padding: 0.3em;box-sizing: border-box;text-align: center;}#sk-container-id-1 label.sk-toggleable__label-arrow:before {content: \"▸\";float: left;margin-right: 0.25em;color: #696969;}#sk-container-id-1 label.sk-toggleable__label-arrow:hover:before {color: black;}#sk-container-id-1 div.sk-estimator:hover label.sk-toggleable__label-arrow:before {color: black;}#sk-container-id-1 div.sk-toggleable__content {max-height: 0;max-width: 0;overflow: hidden;text-align: left;background-color: #f0f8ff;}#sk-container-id-1 div.sk-toggleable__content pre {margin: 0.2em;color: black;border-radius: 0.25em;background-color: #f0f8ff;}#sk-container-id-1 input.sk-toggleable__control:checked~div.sk-toggleable__content {max-height: 200px;max-width: 100%;overflow: auto;}#sk-container-id-1 input.sk-toggleable__control:checked~label.sk-toggleable__label-arrow:before {content: \"▾\";}#sk-container-id-1 div.sk-estimator input.sk-toggleable__control:checked~label.sk-toggleable__label {background-color: #d4ebff;}#sk-container-id-1 div.sk-label input.sk-toggleable__control:checked~label.sk-toggleable__label {background-color: #d4ebff;}#sk-container-id-1 input.sk-hidden--visually {border: 0;clip: rect(1px 1px 1px 1px);clip: rect(1px, 1px, 1px, 1px);height: 1px;margin: -1px;overflow: hidden;padding: 0;position: absolute;width: 1px;}#sk-container-id-1 div.sk-estimator {font-family: monospace;background-color: #f0f8ff;border: 1px dotted black;border-radius: 0.25em;box-sizing: border-box;margin-bottom: 0.5em;}#sk-container-id-1 div.sk-estimator:hover {background-color: #d4ebff;}#sk-container-id-1 div.sk-parallel-item::after {content: \"\";width: 100%;border-bottom: 1px solid gray;flex-grow: 1;}#sk-container-id-1 div.sk-label:hover label.sk-toggleable__label {background-color: #d4ebff;}#sk-container-id-1 div.sk-serial::before {content: \"\";position: absolute;border-left: 1px solid gray;box-sizing: border-box;top: 0;bottom: 0;left: 50%;z-index: 0;}#sk-container-id-1 div.sk-serial {display: flex;flex-direction: column;align-items: center;background-color: white;padding-right: 0.2em;padding-left: 0.2em;position: relative;}#sk-container-id-1 div.sk-item {position: relative;z-index: 1;}#sk-container-id-1 div.sk-parallel {display: flex;align-items: stretch;justify-content: center;background-color: white;position: relative;}#sk-container-id-1 div.sk-item::before, #sk-container-id-1 div.sk-parallel-item::before {content: \"\";position: absolute;border-left: 1px solid gray;box-sizing: border-box;top: 0;bottom: 0;left: 50%;z-index: -1;}#sk-container-id-1 div.sk-parallel-item {display: flex;flex-direction: column;z-index: 1;position: relative;background-color: white;}#sk-container-id-1 div.sk-parallel-item:first-child::after {align-self: flex-end;width: 50%;}#sk-container-id-1 div.sk-parallel-item:last-child::after {align-self: flex-start;width: 50%;}#sk-container-id-1 div.sk-parallel-item:only-child::after {width: 0;}#sk-container-id-1 div.sk-dashed-wrapped {border: 1px dashed gray;margin: 0 0.4em 0.5em 0.4em;box-sizing: border-box;padding-bottom: 0.4em;background-color: white;}#sk-container-id-1 div.sk-label label {font-family: monospace;font-weight: bold;display: inline-block;line-height: 1.2em;}#sk-container-id-1 div.sk-label-container {text-align: center;}#sk-container-id-1 div.sk-container {/* jupyter's `normalize.less` sets `[hidden] { display: none; }` but bootstrap.min.css set `[hidden] { display: none !important; }` so we also need the `!important` here to be able to override the default hidden behavior on the sphinx rendered scikit-learn.org. See: https://github.com/scikit-learn/scikit-learn/issues/21755 */display: inline-block !important;position: relative;}#sk-container-id-1 div.sk-text-repr-fallback {display: none;}</style><div id=\"sk-container-id-1\" class=\"sk-top-container\"><div class=\"sk-text-repr-fallback\"><pre>LinearRegression()</pre><b>In a Jupyter environment, please rerun this cell to show the HTML representation or trust the notebook. <br />On GitHub, the HTML representation is unable to render, please try loading this page with nbviewer.org.</b></div><div class=\"sk-container\" hidden><div class=\"sk-item\"><div class=\"sk-estimator sk-toggleable\"><input class=\"sk-toggleable__control sk-hidden--visually\" id=\"sk-estimator-id-1\" type=\"checkbox\" checked><label for=\"sk-estimator-id-1\" class=\"sk-toggleable__label sk-toggleable__label-arrow\">LinearRegression</label><div class=\"sk-toggleable__content\"><pre>LinearRegression()</pre></div></div></div></div></div>"
      ],
      "text/plain": [
       "LinearRegression()"
      ]
     },
     "execution_count": 41,
     "metadata": {},
     "output_type": "execute_result"
    }
   ],
   "source": [
    "model.fit(X_train, y_train)"
   ]
  },
  {
   "cell_type": "code",
   "execution_count": 43,
   "id": "3479d80b",
   "metadata": {},
   "outputs": [],
   "source": [
    "predictedValues = model.predict(X_test)"
   ]
  },
  {
   "cell_type": "code",
   "execution_count": 48,
   "id": "0777c476",
   "metadata": {},
   "outputs": [],
   "source": [
    "from sklearn.metrics import mean_absolute_error, r2_score"
   ]
  },
  {
   "cell_type": "code",
   "execution_count": 56,
   "id": "b1dbeff8",
   "metadata": {},
   "outputs": [
    {
     "data": {
      "text/plain": [
       "563    140250\n",
       "289    135000\n",
       "76     100000\n",
       "78     270000\n",
       "182     26005\n",
       "        ...  \n",
       "588     99000\n",
       "311     65438\n",
       "199     90000\n",
       "487    100000\n",
       "149    160000\n",
       "Name: salary_in_usd, Length: 201, dtype: int64"
      ]
     },
     "execution_count": 56,
     "metadata": {},
     "output_type": "execute_result"
    }
   ],
   "source": [
    "y_test"
   ]
  },
  {
   "cell_type": "code",
   "execution_count": 57,
   "id": "4846b0b0",
   "metadata": {},
   "outputs": [
    {
     "data": {
      "text/plain": [
       "array([ 1.47648000e+05,  1.47648000e+05,  7.89120000e+04,  1.93728000e+05,\n",
       "        1.22816000e+05,  2.03520000e+05,  2.43200000e+04,  5.09440000e+04,\n",
       "        6.98880000e+04,  2.16960000e+04,  8.26880000e+04,  1.47648000e+05,\n",
       "        1.47648000e+05,  6.11783968e+16,  1.86560000e+05,  1.47648000e+05,\n",
       "        3.71840000e+04,  1.22816000e+05,  1.72160000e+04,  1.35104000e+05,\n",
       "        1.07776000e+05,  1.34016000e+05,  1.47648000e+05,  1.24736000e+05,\n",
       "        6.11783968e+16,  8.28160000e+04,  1.47648000e+05,  1.24736000e+05,\n",
       "        1.20320000e+05,  8.44160000e+04,  6.46400000e+04,  1.20320000e+05,\n",
       "        1.04384000e+05,  7.62880000e+04,  4.05120000e+04,  1.20320000e+05,\n",
       "        1.23712000e+05,  8.92160000e+04,  6.11783968e+16,  1.12128000e+05,\n",
       "        1.49568000e+05,  1.49568000e+05, -5.08318952e+16,  6.11783968e+16,\n",
       "        1.20320000e+05,  5.44640000e+04,  9.96480000e+04,  1.22816000e+05,\n",
       "        1.04768000e+05,  1.49056000e+05,  1.20320000e+05,  8.51200000e+03,\n",
       "        1.21856000e+05,  1.20320000e+05,  1.47648000e+05,  1.20320000e+05,\n",
       "        1.36640000e+05,  2.07488000e+05,  6.11783968e+16,  6.11783968e+16,\n",
       "        2.03072000e+05,  6.11783968e+16, -1.85255575e+17,  1.51872000e+05,\n",
       "       -5.07362160e+16,  1.21856000e+05,  1.24736000e+05,  5.71520000e+04,\n",
       "        8.92160000e+04,  1.28384000e+05,  3.15520000e+04,  3.14880000e+04,\n",
       "        9.97760000e+04,  4.78720000e+04,  1.18912000e+05,  1.12576000e+05,\n",
       "        8.36480000e+04,  6.11783968e+16,  1.24736000e+05,  9.68320000e+04,\n",
       "        1.48608000e+05,  1.01760000e+05,  9.59360000e+04,  4.25600000e+04,\n",
       "        2.30528000e+05,  1.84128000e+05,  9.69600000e+04,  1.47136000e+05,\n",
       "        1.24736000e+05,  7.70560000e+04,  6.11783968e+16,  6.77760000e+04,\n",
       "        1.23712000e+05,  1.24224000e+05,  1.47648000e+05,  5.75360000e+04,\n",
       "        6.40000000e+01,  5.46560000e+04,  4.06400000e+04,  1.47648000e+05,\n",
       "        3.80160000e+04, -5.08318955e+16,  1.36128000e+05,  2.27456000e+05,\n",
       "        1.20320000e+05,  7.58400000e+04,  1.20320000e+05,  1.84768000e+05,\n",
       "        1.20320000e+05,  8.05120000e+04,  5.71520000e+04, -7.23200000e+03,\n",
       "        1.33312000e+05,  1.49568000e+05,  5.58080000e+04,  1.68320000e+04,\n",
       "       -7.23200000e+03,  1.61152000e+05,  1.49568000e+05,  1.14176000e+05,\n",
       "        1.20320000e+05,  5.01760000e+04,  6.11783968e+16,  8.05120000e+04,\n",
       "        1.84768000e+05,  1.75488000e+05,  2.49472000e+05,  1.10208000e+05,\n",
       "        1.49568000e+05,  1.49568000e+05,  1.59936000e+05,  1.58336000e+05,\n",
       "        1.24736000e+05,  1.49568000e+05,  9.54880000e+04,  1.47648000e+05,\n",
       "        1.49568000e+05,  9.63200000e+04, -6.40000000e+02,  1.49568000e+05,\n",
       "        7.85280000e+04,  4.90880000e+04,  6.11783968e+16,  1.20320000e+05,\n",
       "        1.10656000e+05,  1.08160000e+05,  7.27680000e+04,  1.23712000e+05,\n",
       "        8.63360000e+04,  1.24096000e+05,  8.19200000e+04,  4.33280000e+04,\n",
       "        1.47648000e+05,  8.92160000e+04,  1.47648000e+05,  1.20320000e+05,\n",
       "        8.53760000e+04,  9.81120000e+04,  1.47136000e+05,  8.56960000e+04,\n",
       "        9.37600000e+04,  1.49568000e+05,  5.78560000e+04,  1.64480000e+04,\n",
       "        6.11783968e+16,  1.49568000e+05,  1.22816000e+05, -1.53152000e+05,\n",
       "        1.05024000e+05,  1.47648000e+05,  1.47136000e+05,  1.83808000e+05,\n",
       "        6.43200000e+04,  1.50720000e+05,  1.83744000e+05,  2.51712000e+05,\n",
       "        8.99840000e+04,  1.20320000e+05,  6.11840000e+04,  1.15776000e+05,\n",
       "        8.82560000e+04,  1.49120000e+05,  1.47648000e+05,  8.19840000e+04,\n",
       "        1.49568000e+05,  8.44160000e+04,  1.20320000e+05,  1.20320000e+05,\n",
       "        6.11783968e+16,  1.47136000e+05,  4.42240000e+04,  1.85152000e+05,\n",
       "        1.23712000e+05,  6.73920000e+04,  3.98720000e+04,  1.49568000e+05,\n",
       "        1.20320000e+05,  8.63360000e+04,  7.25120000e+04,  6.11783968e+16,\n",
       "       -4.13212680e+16])"
      ]
     },
     "execution_count": 57,
     "metadata": {},
     "output_type": "execute_result"
    }
   ],
   "source": [
    "predictedValues"
   ]
  },
  {
   "cell_type": "code",
   "execution_count": null,
   "id": "fea9cb5d",
   "metadata": {},
   "outputs": [],
   "source": []
  },
  {
   "cell_type": "code",
   "execution_count": null,
   "id": "3a38292d",
   "metadata": {},
   "outputs": [],
   "source": []
  }
 ],
 "metadata": {
  "kernelspec": {
   "display_name": "allMLModelProjects",
   "language": "python",
   "name": "allmlmodelprojects"
  },
  "language_info": {
   "codemirror_mode": {
    "name": "ipython",
    "version": 3
   },
   "file_extension": ".py",
   "mimetype": "text/x-python",
   "name": "python",
   "nbconvert_exporter": "python",
   "pygments_lexer": "ipython3",
   "version": "3.10.9"
  }
 },
 "nbformat": 4,
 "nbformat_minor": 5
}
