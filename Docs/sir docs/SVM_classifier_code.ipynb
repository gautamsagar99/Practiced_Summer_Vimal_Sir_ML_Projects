{
  "cells": [
    {
      "cell_type": "code",
      "execution_count": null,
      "id": "f141bae0",
      "metadata": {
        "id": "f141bae0"
      },
      "outputs": [],
      "source": [
        "import pandas as pd"
      ]
    },
    {
      "cell_type": "code",
      "execution_count": null,
      "id": "30bf1216",
      "metadata": {
        "id": "30bf1216"
      },
      "outputs": [],
      "source": [
        "dataset = pd.read_csv('Social_Network_Ads.csv')"
      ]
    },
    {
      "cell_type": "code",
      "execution_count": null,
      "id": "880b03ce",
      "metadata": {
        "id": "880b03ce",
        "outputId": "efcf8080-18bf-476d-965f-8e0e9a19af5d"
      },
      "outputs": [
        {
          "data": {
            "text/plain": [
              "Index(['Age', 'EstimatedSalary', 'Purchased'], dtype='object')"
            ]
          },
          "execution_count": 4,
          "metadata": {},
          "output_type": "execute_result"
        }
      ],
      "source": [
        "dataset.columns"
      ]
    },
    {
      "cell_type": "code",
      "execution_count": null,
      "id": "3f5a4108",
      "metadata": {
        "id": "3f5a4108"
      },
      "outputs": [],
      "source": [
        "X = dataset[ ['Age', 'EstimatedSalary' ] ]"
      ]
    },
    {
      "cell_type": "code",
      "execution_count": null,
      "id": "f0959963",
      "metadata": {
        "id": "f0959963"
      },
      "outputs": [],
      "source": [
        "y = dataset['Purchased']"
      ]
    },
    {
      "cell_type": "code",
      "execution_count": null,
      "id": "319b9b54",
      "metadata": {
        "id": "319b9b54"
      },
      "outputs": [],
      "source": [
        "from sklearn.model_selection import train_test_split"
      ]
    },
    {
      "cell_type": "code",
      "execution_count": null,
      "id": "d4987af4",
      "metadata": {
        "id": "d4987af4"
      },
      "outputs": [],
      "source": [
        "X_train, X_test, y_train, y_test = train_test_split(X, y, test_size=0.25, random_state=42)"
      ]
    },
    {
      "cell_type": "code",
      "execution_count": null,
      "id": "9dec6329",
      "metadata": {
        "id": "9dec6329"
      },
      "outputs": [],
      "source": [
        "from sklearn.preprocessing import StandardScaler"
      ]
    },
    {
      "cell_type": "code",
      "execution_count": null,
      "id": "a316d17b",
      "metadata": {
        "id": "a316d17b"
      },
      "outputs": [],
      "source": [
        "sc = StandardScaler()"
      ]
    },
    {
      "cell_type": "code",
      "execution_count": null,
      "id": "59c3fe9d",
      "metadata": {
        "id": "59c3fe9d"
      },
      "outputs": [],
      "source": [
        "X_train = sc.fit_transform(X_train)"
      ]
    },
    {
      "cell_type": "code",
      "execution_count": null,
      "id": "6b2ef3e8",
      "metadata": {
        "id": "6b2ef3e8"
      },
      "outputs": [],
      "source": [
        "X_test = sc.transform(X_test)"
      ]
    },
    {
      "cell_type": "code",
      "execution_count": null,
      "id": "13e31a78",
      "metadata": {
        "id": "13e31a78"
      },
      "outputs": [],
      "source": [
        "from sklearn.svm import SVC"
      ]
    },
    {
      "cell_type": "code",
      "execution_count": null,
      "id": "d78bbabd",
      "metadata": {
        "id": "d78bbabd"
      },
      "outputs": [],
      "source": [
        "model = SVC()"
      ]
    },
    {
      "cell_type": "code",
      "execution_count": null,
      "id": "7b06495c",
      "metadata": {
        "id": "7b06495c",
        "outputId": "cedbeb5b-c295-48a8-c143-32cee9a0d4b0"
      },
      "outputs": [
        {
          "data": {
            "text/plain": [
              "SVC()"
            ]
          },
          "execution_count": 15,
          "metadata": {},
          "output_type": "execute_result"
        }
      ],
      "source": [
        "model.fit(X_train, y_train)"
      ]
    },
    {
      "cell_type": "code",
      "execution_count": null,
      "id": "4b0825f7",
      "metadata": {
        "id": "4b0825f7"
      },
      "outputs": [],
      "source": [
        "y_pred = model.predict(X_test)"
      ]
    },
    {
      "cell_type": "code",
      "execution_count": null,
      "id": "d7fc7687",
      "metadata": {
        "id": "d7fc7687",
        "outputId": "fddb851a-c34b-4af0-b95a-98ad1cfd7615"
      },
      "outputs": [
        {
          "data": {
            "text/plain": [
              "array([1, 1, 0, 1, 0, 0, 1, 0, 0, 0, 0, 1, 0, 0, 0, 1, 1, 1, 0, 1, 0, 0,\n",
              "       1, 1, 0, 1, 0, 0, 1, 0, 1, 0, 1, 0, 1, 0, 0, 0, 0, 0, 1, 0, 0, 1,\n",
              "       0, 1, 0, 0, 1, 0, 0, 1, 0, 0, 0, 0, 1, 1, 0, 0, 0, 0, 1, 0, 0, 1,\n",
              "       1, 1, 0, 1, 1, 0, 0, 0, 1, 0, 1, 1, 0, 0, 0, 1, 1, 1, 1, 1, 0, 1,\n",
              "       0, 0, 1, 0, 0, 0, 0, 0, 1, 0, 1, 1], dtype=int64)"
            ]
          },
          "execution_count": 19,
          "metadata": {},
          "output_type": "execute_result"
        }
      ],
      "source": [
        "y_pred"
      ]
    },
    {
      "cell_type": "code",
      "execution_count": null,
      "id": "091caed3",
      "metadata": {
        "id": "091caed3",
        "outputId": "9e6b539e-5115-43ab-cbf4-19b24e7feaf2"
      },
      "outputs": [
        {
          "data": {
            "text/plain": [
              "209    0\n",
              "280    1\n",
              "33     0\n",
              "210    1\n",
              "93     0\n",
              "      ..\n",
              "314    0\n",
              "373    1\n",
              "380    0\n",
              "239    1\n",
              "75     1\n",
              "Name: Purchased, Length: 100, dtype: int64"
            ]
          },
          "execution_count": 20,
          "metadata": {},
          "output_type": "execute_result"
        }
      ],
      "source": [
        "y_test"
      ]
    },
    {
      "cell_type": "code",
      "execution_count": null,
      "id": "f26f8d9d",
      "metadata": {
        "id": "f26f8d9d"
      },
      "outputs": [],
      "source": [
        "from sklearn.metrics import confusion_matrix"
      ]
    },
    {
      "cell_type": "code",
      "execution_count": null,
      "id": "65af45c0",
      "metadata": {
        "id": "65af45c0",
        "outputId": "7e8654c9-6b71-44ea-db2d-c269fedf6f02"
      },
      "outputs": [
        {
          "data": {
            "text/plain": [
              "array([[57,  6],\n",
              "       [ 1, 36]], dtype=int64)"
            ]
          },
          "execution_count": 22,
          "metadata": {},
          "output_type": "execute_result"
        }
      ],
      "source": [
        "confusion_matrix(y_test, y_pred)"
      ]
    },
    {
      "cell_type": "code",
      "execution_count": null,
      "id": "3df451af",
      "metadata": {
        "id": "3df451af",
        "outputId": "ffeb95dc-7803-43e2-c324-2850407eabc6"
      },
      "outputs": [
        {
          "data": {
            "text/plain": [
              "0.93"
            ]
          },
          "execution_count": 23,
          "metadata": {},
          "output_type": "execute_result"
        }
      ],
      "source": [
        "(57 + 36) / (57 + 6 + 1 + 36)"
      ]
    },
    {
      "cell_type": "code",
      "execution_count": null,
      "id": "e2e84bf9",
      "metadata": {
        "id": "e2e84bf9"
      },
      "outputs": [],
      "source": []
    }
  ],
  "metadata": {
    "kernelspec": {
      "display_name": "Python 3",
      "language": "python",
      "name": "python3"
    },
    "language_info": {
      "codemirror_mode": {
        "name": "ipython",
        "version": 3
      },
      "file_extension": ".py",
      "mimetype": "text/x-python",
      "name": "python",
      "nbconvert_exporter": "python",
      "pygments_lexer": "ipython3",
      "version": "3.8.8"
    },
    "colab": {
      "provenance": []
    }
  },
  "nbformat": 4,
  "nbformat_minor": 5
}